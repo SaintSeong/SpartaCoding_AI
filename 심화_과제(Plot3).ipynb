{
  "nbformat": 4,
  "nbformat_minor": 0,
  "metadata": {
    "colab": {
      "provenance": [],
      "gpuType": "T4",
      "include_colab_link": true
    },
    "kernelspec": {
      "name": "python3",
      "display_name": "Python 3"
    },
    "language_info": {
      "name": "python"
    },
    "accelerator": "GPU"
  },
  "cells": [
    {
      "cell_type": "markdown",
      "metadata": {
        "id": "view-in-github",
        "colab_type": "text"
      },
      "source": [
        "<a href=\"https://colab.research.google.com/github/SaintSeong/SpartaCoding_AI/blob/main/%EC%8B%AC%ED%99%94_%EA%B3%BC%EC%A0%9C(Plot3).ipynb\" target=\"_parent\"><img src=\"https://colab.research.google.com/assets/colab-badge.svg\" alt=\"Open In Colab\"/></a>"
      ]
    },
    {
      "cell_type": "markdown",
      "source": [
        "# 데이터 로드 및 전처리\n"
      ],
      "metadata": {
        "id": "JKTIKPzqt25D"
      }
    },
    {
      "cell_type": "code",
      "execution_count": 1,
      "metadata": {
        "id": "6lXVfXoDtoQh"
      },
      "outputs": [],
      "source": [
        "import torch\n",
        "import torchvision\n",
        "import torchvision.transforms as transforms\n",
        "from torch import nn\n",
        "from matplotlib import pyplot as plt\n",
        "import numpy as np"
      ]
    },
    {
      "cell_type": "markdown",
      "source": [
        "\n",
        "# CIFAR10 데이터셋 로드"
      ],
      "metadata": {
        "id": "hH20448xt8Wt"
      }
    },
    {
      "cell_type": "code",
      "source": [
        "transform = transforms.ToTensor()\n",
        "\n",
        "trainset = torchvision.datasets.CIFAR10(\n",
        "    root='./data',\n",
        "    train=True,\n",
        "    download=True,\n",
        "    transform=transform\n",
        ")\n",
        "\n",
        "testset = torchvision.datasets.CIFAR10(\n",
        "    root='./data',\n",
        "    train=False,\n",
        "    download=True,\n",
        "    transform=transform\n",
        ")"
      ],
      "metadata": {
        "id": "8kDLtt1gXFaB",
        "colab": {
          "base_uri": "https://localhost:8080/"
        },
        "outputId": "1e920183-13a6-44e7-825e-28e1b205a1cf"
      },
      "execution_count": 2,
      "outputs": [
        {
          "output_type": "stream",
          "name": "stdout",
          "text": [
            "Downloading https://www.cs.toronto.edu/~kriz/cifar-10-python.tar.gz to ./data/cifar-10-python.tar.gz\n"
          ]
        },
        {
          "output_type": "stream",
          "name": "stderr",
          "text": [
            "100%|██████████| 170498071/170498071 [00:10<00:00, 16328560.22it/s]\n"
          ]
        },
        {
          "output_type": "stream",
          "name": "stdout",
          "text": [
            "Extracting ./data/cifar-10-python.tar.gz to ./data\n",
            "Files already downloaded and verified\n"
          ]
        }
      ]
    },
    {
      "cell_type": "markdown",
      "source": [
        "# 데이터 로더 생성"
      ],
      "metadata": {
        "id": "IriqFh2guBSV"
      }
    },
    {
      "cell_type": "code",
      "source": [
        "batch_size = 256\n",
        "\n",
        "trainloader = torch.utils.data.DataLoader(\n",
        "    trainset,\n",
        "    batch_size=batch_size,\n",
        "    shuffle=True\n",
        ")\n",
        "\n",
        "testloader = torch.utils.data.DataLoader(\n",
        "    testset,\n",
        "    batch_size=batch_size,\n",
        "    shuffle=False\n",
        ")"
      ],
      "metadata": {
        "id": "UxKu3kA2i5WH"
      },
      "execution_count": 3,
      "outputs": []
    },
    {
      "cell_type": "markdown",
      "source": [
        "# 데이터 Shape 확인\n",
        "\n",
        "\n"
      ],
      "metadata": {
        "id": "Ry8rdhtZve-y"
      }
    },
    {
      "cell_type": "code",
      "source": [
        "dataiter = iter(trainloader)\n",
        "images, labels = next(dataiter)\n",
        "print(images.shape, labels.shape)"
      ],
      "metadata": {
        "colab": {
          "base_uri": "https://localhost:8080/"
        },
        "id": "OyqXOF7avaff",
        "outputId": "e4531fe8-2809-4d93-b766-82db6ae7e127"
      },
      "execution_count": 4,
      "outputs": [
        {
          "output_type": "stream",
          "name": "stdout",
          "text": [
            "torch.Size([256, 3, 32, 32]) torch.Size([256])\n"
          ]
        }
      ]
    },
    {
      "cell_type": "markdown",
      "source": [
        "# 모델 정의"
      ],
      "metadata": {
        "id": "Gwt1SPoAuDxO"
      }
    },
    {
      "cell_type": "code",
      "source": [
        "device = \"cuda\"\n",
        "\n",
        "class Model_LeakyReLU_Dropout(nn.Module):\n",
        "  def __init__(self, input_dim, n_dim, dropout_prob=0.1):\n",
        "    super().__init__()\n",
        "\n",
        "    self.layer1 = nn.Linear(input_dim, n_dim)\n",
        "    self.layer2 = nn.Linear(n_dim, n_dim)\n",
        "    self.layer3 = nn.Linear(n_dim, 10)\n",
        "\n",
        "    self.act = nn.LeakyReLU()\n",
        "    self.dropout = nn.Dropout(dropout_prob)\n",
        "\n",
        "  def forward(self, x):\n",
        "    x = torch.flatten(x, start_dim=1)\n",
        "    x = self.act(self.layer1(x))\n",
        "    x = self.dropout(x)\n",
        "    x = self.act(self.layer2(x))\n",
        "    x = self.dropout(x)\n",
        "    x = self.act(self.layer3(x))\n",
        "\n",
        "    return x\n",
        "\n",
        "model = Model_LeakyReLU_Dropout(32*32*3, 1024)\n"
      ],
      "metadata": {
        "id": "OLOA-ZGTuVVG"
      },
      "execution_count": 5,
      "outputs": []
    },
    {
      "cell_type": "markdown",
      "source": [
        "# 모델, 옵티마이저 설정"
      ],
      "metadata": {
        "id": "sgERaYxyuF3B"
      }
    },
    {
      "cell_type": "code",
      "source": [
        "from torch.optim import Adam\n",
        "\n",
        "lr_Adam = 0.001\n",
        "\n",
        "model = model.to(device)\n",
        "optimizer = Adam(model.parameters(), lr=lr_Adam)"
      ],
      "metadata": {
        "id": "T3duKC-GXTeE"
      },
      "execution_count": 6,
      "outputs": []
    },
    {
      "cell_type": "markdown",
      "source": [
        "# 정확도 및 플롯 함수 정의\n",
        "\n",
        "### from Gemini\n",
        "정확도 함수에서 with torch.no_grad():와 model.eval()을 사용하는 이유는 모델 평가를 위한 환경을 설정하기 위해서입니다.\n",
        "\n",
        "with torch.no_grad():는 gradient 계산을 비활성화합니다.\n",
        "\n",
        "정확도 계산은 모델의 가중치를 업데이트하지 않으므로 gradient 계산이 필요하지 않습니다.\n",
        "gradient 계산을 비활성화하면 메모리 사용량을 줄이고 계산 속도를 높일 수 있습니다.\n",
        "model.eval()은 모델을 평가 모드로 설정합니다.\n",
        "\n",
        "Dropout, Batch Normalization과 같은 layer들은 학습과 평가 모드에서 다르게 동작합니다.\n",
        "model.eval()을 통해 모델이 평가 모드에서 동작하도록 하여 정확한 평가 결과를 얻을 수 있습니다.\n",
        "요약하자면, 정확도 함수에서 이 두 코드를 사용하는 것은 gradient 계산을 비활성화하고 모델을 평가 모드로 설정하여 메모리 사용량을 줄이고, 계산 속도를 높이며, 정확한 평가 결과를 얻기 위함입니다."
      ],
      "metadata": {
        "id": "p1CXUenZuIj1"
      }
    },
    {
      "cell_type": "code",
      "source": [
        "def accuracy(model, dataloader):\n",
        "\n",
        "  with torch.no_grad():\n",
        "    model.eval()\n",
        "\n",
        "  cnt = 0\n",
        "  acc = 0\n",
        "\n",
        "  for data in dataloader:\n",
        "    inputs, labels = data\n",
        "    inputs, labels = inputs.to(device), labels.to(device)\n",
        "\n",
        "    preds = model(inputs)\n",
        "    preds = torch.argmax(preds, dim=-1)\n",
        "\n",
        "    cnt += labels.shape[0]\n",
        "    acc += (labels == preds).sum().item()\n",
        "\n",
        "  return acc / cnt\n",
        "\n",
        "def plot_acc(train_accs, test_accs, label1='train', label2='test'):\n",
        "  x = np.arange(len(train_accs))\n",
        "\n",
        "  plt.plot(x, train_accs, label=label1)\n",
        "  plt.plot(x, test_accs, label=label2)\n",
        "  plt.legend()\n",
        "  plt.show()\n",
        "\n",
        "n_epochs = 50\n",
        "train_acc= [];\n",
        "test_acc = [];"
      ],
      "metadata": {
        "id": "IILExWeIMHMR"
      },
      "execution_count": 7,
      "outputs": []
    },
    {
      "cell_type": "markdown",
      "source": [
        "# 모델 학습\n",
        "### from Gemini\n",
        "Dropout은 모델 학습 중에 랜덤하게 뉴런을 비활성화하여 overfitting을 방지하는 regularization 기술입니다.\n",
        "\n",
        "model.train()을 설정하는 이유는 Dropout이 학습 시에만 적용되어야 하기 때문입니다.\n",
        "\n",
        "model.train() 모드에서는 Dropout이 활성화되어 뉴런들이 랜덤하게 drop됩니다.\n",
        "model.eval() 모드에서는 Dropout이 비활성화되어 모든 뉴런이 사용됩니다.\n",
        "즉, model.train()을 통해 Dropout을 활성화하여 학습 중에만 Dropout을 적용하고,\n",
        "평가 시에는 모든 뉴런을 사용하여 모델의 성능을 정확하게 측정할 수 있습니다."
      ],
      "metadata": {
        "id": "FSp9qmuEuKXI"
      }
    },
    {
      "cell_type": "code",
      "source": [
        "for epoch in range(n_epochs):\n",
        "  total_loss = 0.\n",
        "  model.train()\n",
        "  for data in trainloader:\n",
        "    model.zero_grad()\n",
        "    inputs, labels = data\n",
        "    inputs, labels = inputs.to(device), labels.to(device)\n",
        "\n",
        "    preds = model(inputs)\n",
        "    loss = nn.CrossEntropyLoss()(preds, labels)\n",
        "    loss.backward()\n",
        "    optimizer.step()\n",
        "\n",
        "    total_loss += loss.item()\n",
        "\n",
        "  train_acc.append(accuracy(model, trainloader))\n",
        "  test_acc.append(accuracy(model, testloader))\n",
        "  print(f\"Epoch {epoch:3d} | Loss: {total_loss}\")"
      ],
      "metadata": {
        "colab": {
          "base_uri": "https://localhost:8080/"
        },
        "id": "Y0kCJsWE8oGs",
        "outputId": "93a9499c-3b1d-4738-b781-bbf1306c8acc"
      },
      "execution_count": 8,
      "outputs": [
        {
          "output_type": "stream",
          "name": "stdout",
          "text": [
            "Epoch   0 | Loss: 430.83521151542664\n",
            "Epoch   1 | Loss: 389.3031965494156\n",
            "Epoch   2 | Loss: 367.9116442203522\n",
            "Epoch   3 | Loss: 352.8257406949997\n",
            "Epoch   4 | Loss: 342.23925602436066\n",
            "Epoch   5 | Loss: 332.40001106262207\n",
            "Epoch   6 | Loss: 323.61879801750183\n",
            "Epoch   7 | Loss: 316.3290969133377\n",
            "Epoch   8 | Loss: 310.3277180194855\n",
            "Epoch   9 | Loss: 303.37165224552155\n",
            "Epoch  10 | Loss: 299.41939532756805\n",
            "Epoch  11 | Loss: 294.1680190563202\n",
            "Epoch  12 | Loss: 289.45959734916687\n",
            "Epoch  13 | Loss: 286.7505533695221\n",
            "Epoch  14 | Loss: 281.2248874902725\n",
            "Epoch  15 | Loss: 278.0865057706833\n",
            "Epoch  16 | Loss: 275.0924080610275\n",
            "Epoch  17 | Loss: 284.5276516675949\n",
            "Epoch  18 | Loss: 271.4222722053528\n",
            "Epoch  19 | Loss: 269.11881482601166\n",
            "Epoch  20 | Loss: 265.3224867582321\n",
            "Epoch  21 | Loss: 261.8641757965088\n",
            "Epoch  22 | Loss: 259.88821828365326\n",
            "Epoch  23 | Loss: 255.00502943992615\n",
            "Epoch  24 | Loss: 254.6808284521103\n",
            "Epoch  25 | Loss: 250.62838399410248\n",
            "Epoch  26 | Loss: 247.52969896793365\n",
            "Epoch  27 | Loss: 246.9306801557541\n",
            "Epoch  28 | Loss: 243.13733035326004\n",
            "Epoch  29 | Loss: 240.8337560892105\n",
            "Epoch  30 | Loss: 237.85719788074493\n",
            "Epoch  31 | Loss: 235.73650336265564\n",
            "Epoch  32 | Loss: 236.23004055023193\n",
            "Epoch  33 | Loss: 230.42748773097992\n",
            "Epoch  34 | Loss: 229.43499773740768\n",
            "Epoch  35 | Loss: 226.0888694524765\n",
            "Epoch  36 | Loss: 224.99079436063766\n",
            "Epoch  37 | Loss: 227.6285319328308\n",
            "Epoch  38 | Loss: 221.1539945602417\n",
            "Epoch  39 | Loss: 218.22107356786728\n",
            "Epoch  40 | Loss: 217.7521317601204\n",
            "Epoch  41 | Loss: 216.2377329468727\n",
            "Epoch  42 | Loss: 211.24906241893768\n",
            "Epoch  43 | Loss: 209.69774639606476\n",
            "Epoch  44 | Loss: 207.45387876033783\n",
            "Epoch  45 | Loss: 205.72825074195862\n",
            "Epoch  46 | Loss: 204.30419898033142\n",
            "Epoch  47 | Loss: 204.0467695593834\n",
            "Epoch  48 | Loss: 198.14079707860947\n",
            "Epoch  49 | Loss: 199.22103184461594\n"
          ]
        }
      ]
    },
    {
      "cell_type": "markdown",
      "source": [
        "# 정확도 Plot 보여주기"
      ],
      "metadata": {
        "id": "K6l9rwmRuOBe"
      }
    },
    {
      "cell_type": "code",
      "source": [
        "plot_acc(train_acc, test_acc)"
      ],
      "metadata": {
        "colab": {
          "base_uri": "https://localhost:8080/",
          "height": 430
        },
        "id": "EOE7q-_GKl5a",
        "outputId": "59da14f6-8a57-4698-af27-a1fbd52e9800"
      },
      "execution_count": 9,
      "outputs": [
        {
          "output_type": "display_data",
          "data": {
            "text/plain": [
              "<Figure size 640x480 with 1 Axes>"
            ],
            "image/png": "[encoded data removed]"
          },
          "metadata": {}
        }
      ]
    },
    {
      "cell_type": "code",
      "source": [],
      "metadata": {
        "id": "7utJSs7WK4VV"
      },
      "execution_count": 9,
      "outputs": []
    }
  ]
}