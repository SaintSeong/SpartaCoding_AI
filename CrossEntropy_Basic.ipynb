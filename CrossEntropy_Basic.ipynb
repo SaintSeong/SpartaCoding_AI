{
  "nbformat": 4,
  "nbformat_minor": 0,
  "metadata": {
    "colab": {
      "provenance": [],
      "gpuType": "T4",
      "include_colab_link": true
    },
    "kernelspec": {
      "name": "python3",
      "display_name": "Python 3"
    },
    "language_info": {
      "name": "python"
    },
    "accelerator": "GPU"
  },
  "cells": [
    {
      "cell_type": "markdown",
      "metadata": {
        "id": "view-in-github",
        "colab_type": "text"
      },
      "source": [
        "<a href=\"https://colab.research.google.com/github/SaintSeong/SpartaCoding_AI/blob/main/CrossEntropy_Basic.ipynb\" target=\"_parent\"><img src=\"https://colab.research.google.com/assets/colab-badge.svg\" alt=\"Open In Colab\"/></a>"
      ]
    },
    {
      "cell_type": "code",
      "execution_count": null,
      "metadata": {
        "id": "6lXVfXoDtoQh"
      },
      "outputs": [],
      "source": [
        "import os\n",
        "os.environ['CUDA_LAUNCH_BLOCKING'] = '1'\n",
        "\n",
        "import torch\n",
        "import torchvision\n",
        "import torchvision.transforms as transforms\n",
        "from torch import nn\n",
        "from matplotlib import pyplot as plt\n",
        "import numpy as np"
      ]
    },
    {
      "cell_type": "code",
      "source": [
        "transform = transforms.ToTensor()\n",
        "\n",
        "trainset = torchvision.datasets.MNIST(\n",
        "    root='./data',\n",
        "    train=True,\n",
        "    download=True,\n",
        "    transform=transform\n",
        ")\n",
        "\n",
        "testset = torchvision.datasets.MNIST(\n",
        "    root='./data',\n",
        "    train=False,\n",
        "    download=True,\n",
        "    transform=transform\n",
        ")"
      ],
      "metadata": {
        "id": "8kDLtt1gXFaB"
      },
      "execution_count": null,
      "outputs": []
    },
    {
      "cell_type": "code",
      "source": [
        "batch_size = 256\n",
        "\n",
        "trainloader = torch.utils.data.DataLoader(\n",
        "    trainset,\n",
        "    batch_size=batch_size,\n",
        "    shuffle=True\n",
        ")\n",
        "\n",
        "testloader = torch.utils.data.DataLoader(\n",
        "    testset,\n",
        "    batch_size=batch_size,\n",
        "    shuffle=False\n",
        ")"
      ],
      "metadata": {
        "id": "UxKu3kA2i5WH"
      },
      "execution_count": null,
      "outputs": []
    },
    {
      "cell_type": "code",
      "source": [
        "device = \"cuda\" if torch.cuda.is_available() else \"cpu\"\n",
        "\n",
        "class Model(nn.Module):\n",
        "  def __init__(self, input_dim, n_dim):\n",
        "    super().__init__()\n",
        "\n",
        "    self.layer1 = nn.Linear(input_dim, n_dim)\n",
        "    self.layer2 = nn.Linear(n_dim, n_dim)\n",
        "    self.layer3 = nn.Linear(n_dim, 10)\n",
        "    # Gemini를 통한 확인\n",
        "    # CrossEntropy는 출력으로 나올 수 있는 각각의 Label에 대한 확률을 계산하므로 1에서 10으로 변경을 해야 동작\n",
        "\n",
        "    self.act = nn.ReLU()\n",
        "\n",
        "  def forward(self, x):\n",
        "    x = torch.flatten(x, start_dim=1)\n",
        "    x = self.act(self.layer1(x))\n",
        "    x = self.act(self.layer2(x))\n",
        "    x = self.act(self.layer3(x))\n",
        "\n",
        "    return x"
      ],
      "metadata": {
        "id": "OLOA-ZGTuVVG"
      },
      "execution_count": null,
      "outputs": []
    },
    {
      "cell_type": "code",
      "source": [
        "model = Model(28 * 28 * 1, 1024)\n",
        "\n",
        "from torch.optim import SGD\n",
        "\n",
        "lr = 0.001\n",
        "model = model.to(device)\n",
        "\n",
        "optimizer = SGD(model.parameters(), lr=lr)"
      ],
      "metadata": {
        "id": "T3duKC-GXTeE"
      },
      "execution_count": null,
      "outputs": []
    },
    {
      "cell_type": "code",
      "source": [
        "def accuracy(model, dataloader):\n",
        "  cnt = 0\n",
        "  acc = 0\n",
        "\n",
        "  for data in dataloader:\n",
        "    inputs, labels = data\n",
        "    inputs, labels = inputs.to(device), labels.to(device)\n",
        "\n",
        "    preds = model(inputs)\n",
        "    preds = torch.argmax(preds, dim=-1)\n",
        "\n",
        "    cnt += labels.shape[0]\n",
        "    acc += (labels == preds).sum().item()\n",
        "\n",
        "  return acc / cnt\n",
        "\n",
        "def plot_acc(train_accs, test_accs, label1='train', label2='test'):\n",
        "  x = np.arange(len(train_accs))\n",
        "\n",
        "  plt.plot(x, train_accs, label=label1)\n",
        "  plt.plot(x, test_accs, label=label2)\n",
        "  plt.legend()\n",
        "  plt.show()"
      ],
      "metadata": {
        "id": "IILExWeIMHMR"
      },
      "execution_count": null,
      "outputs": []
    },
    {
      "cell_type": "code",
      "source": [
        "n_epochs = 100\n",
        "train_accuracy = []\n",
        "test_accuracy = []\n",
        "\n",
        "for epoch in range(n_epochs):\n",
        "  total_loss = 0.\n",
        "  for data in trainloader:\n",
        "    model.zero_grad()\n",
        "    inputs, labels = data\n",
        "    inputs, labels = inputs.to(device), labels.to(device)\n",
        "\n",
        "    preds = model(inputs)\n",
        "    loss = nn.CrossEntropyLoss()(preds, labels)\n",
        "    loss.backward()\n",
        "    optimizer.step()\n",
        "\n",
        "    total_loss += loss.item()\n",
        "\n",
        "  train_accuracy.append(accuracy(model, trainloader))\n",
        "  test_accuracy.append(accuracy(model, testloader))\n",
        "\n",
        "  print(f\"Epoch {epoch:3d} | Loss: {total_loss}\")"
      ],
      "metadata": {
        "id": "Zct0ssSKwjt1",
        "colab": {
          "base_uri": "https://localhost:8080/"
        },
        "outputId": "54174be5-824c-4786-a530-2d67289f6394"
      },
      "execution_count": null,
      "outputs": [
        {
          "output_type": "stream",
          "name": "stdout",
          "text": [
            "Epoch   0 | Loss: 540.5972092151642\n",
            "Epoch   1 | Loss: 538.6832387447357\n",
            "Epoch   2 | Loss: 536.5835056304932\n",
            "Epoch   3 | Loss: 534.4610223770142\n",
            "Epoch   4 | Loss: 532.2522830963135\n",
            "Epoch   5 | Loss: 529.8838317394257\n",
            "Epoch   6 | Loss: 527.3132240772247\n",
            "Epoch   7 | Loss: 524.5240354537964\n",
            "Epoch   8 | Loss: 521.4868805408478\n",
            "Epoch   9 | Loss: 518.1816501617432\n",
            "Epoch  10 | Loss: 514.5376963615417\n",
            "Epoch  11 | Loss: 510.5424325466156\n",
            "Epoch  12 | Loss: 506.05333828926086\n",
            "Epoch  13 | Loss: 500.2857494354248\n",
            "Epoch  14 | Loss: 493.4950828552246\n",
            "Epoch  15 | Loss: 486.0197494029999\n",
            "Epoch  16 | Loss: 477.69554018974304\n",
            "Epoch  17 | Loss: 468.6491314172745\n",
            "Epoch  18 | Loss: 458.6733065843582\n",
            "Epoch  19 | Loss: 447.82991349697113\n",
            "Epoch  20 | Loss: 436.28466832637787\n",
            "Epoch  21 | Loss: 424.1902896165848\n",
            "Epoch  22 | Loss: 411.91210758686066\n",
            "Epoch  23 | Loss: 399.48710322380066\n",
            "Epoch  24 | Loss: 387.38403964042664\n",
            "Epoch  25 | Loss: 375.75821936130524\n",
            "Epoch  26 | Loss: 364.9493678808212\n",
            "Epoch  27 | Loss: 354.79248452186584\n",
            "Epoch  28 | Loss: 345.5418494939804\n",
            "Epoch  29 | Loss: 336.99822211265564\n",
            "Epoch  30 | Loss: 329.13523054122925\n",
            "Epoch  31 | Loss: 322.0180801153183\n",
            "Epoch  32 | Loss: 315.5037636756897\n",
            "Epoch  33 | Loss: 309.2394790649414\n",
            "Epoch  34 | Loss: 303.62653625011444\n",
            "Epoch  35 | Loss: 298.34973645210266\n",
            "Epoch  36 | Loss: 293.3530970811844\n",
            "Epoch  37 | Loss: 288.813046336174\n",
            "Epoch  38 | Loss: 284.3611419200897\n",
            "Epoch  39 | Loss: 280.2499289512634\n",
            "Epoch  40 | Loss: 276.40434324741364\n",
            "Epoch  41 | Loss: 272.7341789007187\n",
            "Epoch  42 | Loss: 269.24616825580597\n",
            "Epoch  43 | Loss: 266.0520742535591\n",
            "Epoch  44 | Loss: 262.9053248167038\n",
            "Epoch  45 | Loss: 259.7933065891266\n",
            "Epoch  46 | Loss: 257.12325835227966\n",
            "Epoch  47 | Loss: 254.54248082637787\n",
            "Epoch  48 | Loss: 251.96130573749542\n",
            "Epoch  49 | Loss: 249.3830024600029\n",
            "Epoch  50 | Loss: 246.96496272087097\n",
            "Epoch  51 | Loss: 244.81147986650467\n",
            "Epoch  52 | Loss: 242.71352124214172\n",
            "Epoch  53 | Loss: 240.76214718818665\n",
            "Epoch  54 | Loss: 238.8061819076538\n",
            "Epoch  55 | Loss: 236.9619156718254\n",
            "Epoch  56 | Loss: 235.24525970220566\n",
            "Epoch  57 | Loss: 233.3851701617241\n",
            "Epoch  58 | Loss: 231.67110550403595\n",
            "Epoch  59 | Loss: 230.21645110845566\n",
            "Epoch  60 | Loss: 228.67618161439896\n",
            "Epoch  61 | Loss: 227.20545983314514\n",
            "Epoch  62 | Loss: 225.75205546617508\n",
            "Epoch  63 | Loss: 224.48195457458496\n",
            "Epoch  64 | Loss: 223.12270784378052\n",
            "Epoch  65 | Loss: 221.88802391290665\n",
            "Epoch  66 | Loss: 220.66423445940018\n",
            "Epoch  67 | Loss: 219.49385207891464\n",
            "Epoch  68 | Loss: 218.51366066932678\n",
            "Epoch  69 | Loss: 217.3416965007782\n",
            "Epoch  70 | Loss: 216.26839834451675\n",
            "Epoch  71 | Loss: 215.20059007406235\n",
            "Epoch  72 | Loss: 214.21496373414993\n",
            "Epoch  73 | Loss: 213.2645262479782\n",
            "Epoch  74 | Loss: 212.3609488606453\n",
            "Epoch  75 | Loss: 211.43326061964035\n",
            "Epoch  76 | Loss: 210.5981598496437\n",
            "Epoch  77 | Loss: 209.71597534418106\n",
            "Epoch  78 | Loss: 209.0509798526764\n",
            "Epoch  79 | Loss: 208.19138658046722\n",
            "Epoch  80 | Loss: 207.5770829319954\n",
            "Epoch  81 | Loss: 206.71696543693542\n",
            "Epoch  82 | Loss: 205.94071972370148\n",
            "Epoch  83 | Loss: 205.24290692806244\n",
            "Epoch  84 | Loss: 204.6607944369316\n",
            "Epoch  85 | Loss: 203.99226701259613\n",
            "Epoch  86 | Loss: 203.30292117595673\n",
            "Epoch  87 | Loss: 202.69674444198608\n",
            "Epoch  88 | Loss: 202.18048495054245\n",
            "Epoch  89 | Loss: 201.47912418842316\n",
            "Epoch  90 | Loss: 200.95180308818817\n",
            "Epoch  91 | Loss: 200.31676787137985\n",
            "Epoch  92 | Loss: 199.8108550310135\n",
            "Epoch  93 | Loss: 199.28777462244034\n",
            "Epoch  94 | Loss: 198.95902854204178\n",
            "Epoch  95 | Loss: 198.3398940563202\n",
            "Epoch  96 | Loss: 197.68075370788574\n",
            "Epoch  97 | Loss: 197.4275485277176\n",
            "Epoch  98 | Loss: 196.95807498693466\n",
            "Epoch  99 | Loss: 196.56693369150162\n"
          ]
        }
      ]
    },
    {
      "cell_type": "code",
      "source": [
        "plot_acc(train_accuracy, test_accuracy)"
      ],
      "metadata": {
        "colab": {
          "base_uri": "https://localhost:8080/",
          "height": 430
        },
        "id": "E9RPdHTPOClD",
        "outputId": "f48c1306-3d87-4971-fb7d-c530c6d5c7fa"
      },
      "execution_count": null,
      "outputs": [
        {
          "output_type": "display_data",
          "data": {
            "text/plain": [
              "<Figure size 640x480 with 1 Axes>"
            ],
            "image/png": "[encoded data removed]"
          },
          "metadata": {}
        }
      ]
    },
    {
      "cell_type": "code",
      "source": [],
      "metadata": {
        "id": "4tu-6KNPWDq3"
      },
      "execution_count": null,
      "outputs": []
    }
  ]
}