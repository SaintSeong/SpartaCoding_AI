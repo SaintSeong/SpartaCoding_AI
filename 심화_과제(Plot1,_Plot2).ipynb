{
  "nbformat": 4,
  "nbformat_minor": 0,
  "metadata": {
    "colab": {
      "provenance": [],
      "gpuType": "T4",
      "include_colab_link": true
    },
    "kernelspec": {
      "name": "python3",
      "display_name": "Python 3"
    },
    "language_info": {
      "name": "python"
    },
    "accelerator": "GPU"
  },
  "cells": [
    {
      "cell_type": "markdown",
      "metadata": {
        "id": "view-in-github",
        "colab_type": "text"
      },
      "source": [
        "<a href=\"https://colab.research.google.com/github/SaintSeong/SpartaCoding_AI/blob/main/%EC%8B%AC%ED%99%94_%EA%B3%BC%EC%A0%9C(Plot1%2C_Plot2).ipynb\" target=\"_parent\"><img src=\"https://colab.research.google.com/assets/colab-badge.svg\" alt=\"Open In Colab\"/></a>"
      ]
    },
    {
      "cell_type": "markdown",
      "source": [
        "# 데이터 로드 및 전처리\n"
      ],
      "metadata": {
        "id": "JKTIKPzqt25D"
      }
    },
    {
      "cell_type": "code",
      "execution_count": 1,
      "metadata": {
        "id": "6lXVfXoDtoQh"
      },
      "outputs": [],
      "source": [
        "import torch\n",
        "import torchvision\n",
        "import torchvision.transforms as transforms\n",
        "from torch import nn\n",
        "from matplotlib import pyplot as plt\n",
        "import numpy as np"
      ]
    },
    {
      "cell_type": "markdown",
      "source": [
        "\n",
        "# CIFAR10 데이터셋 로드"
      ],
      "metadata": {
        "id": "hH20448xt8Wt"
      }
    },
    {
      "cell_type": "code",
      "source": [
        "transform = transforms.ToTensor()\n",
        "\n",
        "trainset = torchvision.datasets.CIFAR10(\n",
        "    root='./data',\n",
        "    train=True,\n",
        "    download=True,\n",
        "    transform=transform\n",
        ")\n",
        "\n",
        "testset = torchvision.datasets.CIFAR10(\n",
        "    root='./data',\n",
        "    train=False,\n",
        "    download=True,\n",
        "    transform=transform\n",
        ")"
      ],
      "metadata": {
        "id": "8kDLtt1gXFaB",
        "colab": {
          "base_uri": "https://localhost:8080/"
        },
        "outputId": "d5fafc42-6d56-459b-cb27-33e9074f7731"
      },
      "execution_count": 2,
      "outputs": [
        {
          "output_type": "stream",
          "name": "stdout",
          "text": [
            "Files already downloaded and verified\n",
            "Files already downloaded and verified\n"
          ]
        }
      ]
    },
    {
      "cell_type": "markdown",
      "source": [
        "# 데이터 로더 생성"
      ],
      "metadata": {
        "id": "IriqFh2guBSV"
      }
    },
    {
      "cell_type": "code",
      "source": [
        "batch_size = 256\n",
        "\n",
        "trainloader = torch.utils.data.DataLoader(\n",
        "    trainset,\n",
        "    batch_size=batch_size,\n",
        "    shuffle=True\n",
        ")\n",
        "\n",
        "testloader = torch.utils.data.DataLoader(\n",
        "    testset,\n",
        "    batch_size=batch_size,\n",
        "    shuffle=False\n",
        ")"
      ],
      "metadata": {
        "id": "UxKu3kA2i5WH"
      },
      "execution_count": 3,
      "outputs": []
    },
    {
      "cell_type": "markdown",
      "source": [
        "# 데이터 Shape 확인\n",
        "\n",
        "\n"
      ],
      "metadata": {
        "id": "Ry8rdhtZve-y"
      }
    },
    {
      "cell_type": "code",
      "source": [
        "dataiter = iter(trainloader)\n",
        "images, labels = next(dataiter)\n",
        "print(images.shape, labels.shape)"
      ],
      "metadata": {
        "colab": {
          "base_uri": "https://localhost:8080/"
        },
        "id": "OyqXOF7avaff",
        "outputId": "f55afed1-caef-4e96-f7bc-4f58b0353609"
      },
      "execution_count": 4,
      "outputs": [
        {
          "output_type": "stream",
          "name": "stdout",
          "text": [
            "torch.Size([256, 3, 32, 32]) torch.Size([256])\n"
          ]
        }
      ]
    },
    {
      "cell_type": "markdown",
      "source": [
        "# 모델 정의"
      ],
      "metadata": {
        "id": "Gwt1SPoAuDxO"
      }
    },
    {
      "cell_type": "code",
      "source": [
        "device = \"cuda\"\n",
        "\n",
        "class Model_LeakyReLU(nn.Module):\n",
        "  def __init__(self, input_dim, n_dim):\n",
        "    super().__init__()\n",
        "\n",
        "    self.layer1 = nn.Linear(input_dim, n_dim)\n",
        "    self.layer2 = nn.Linear(n_dim, n_dim)\n",
        "    self.layer3 = nn.Linear(n_dim, 10)\n",
        "\n",
        "    self.act = nn.LeakyReLU()\n",
        "\n",
        "  def forward(self, x):\n",
        "    x = torch.flatten(x, start_dim=1)\n",
        "    x = self.act(self.layer1(x))\n",
        "    x = self.act(self.layer2(x))\n",
        "    x = self.act(self.layer3(x))\n",
        "\n",
        "    return x\n",
        "\n",
        "\n",
        "class Model_Sigmoid(nn.Module):\n",
        "  def __init__(self, input_dim, n_dim):\n",
        "    super().__init__()\n",
        "\n",
        "    self.layer1 = nn.Linear(input_dim, n_dim)\n",
        "    self.layer2 = nn.Linear(n_dim, n_dim)\n",
        "    self.layer3 = nn.Linear(n_dim, 10)\n",
        "\n",
        "    self.act = nn.Sigmoid()\n",
        "\n",
        "  def forward(self, x):\n",
        "    x = torch.flatten(x, start_dim=1)\n",
        "    x = self.act(self.layer1(x))\n",
        "    x = self.act(self.layer2(x))\n",
        "    x = self.act(self.layer3(x))\n",
        "\n",
        "    return x\n",
        "\n",
        "model_LeakyReLU_SGD = Model_LeakyReLU(32*32*3, 1024)\n",
        "model_LeakyReLU_Adam = Model_LeakyReLU(32*32*3, 1024)\n",
        "model_Sigmoid_Adam = Model_Sigmoid(32*32*3, 1024)\n"
      ],
      "metadata": {
        "id": "OLOA-ZGTuVVG"
      },
      "execution_count": 5,
      "outputs": []
    },
    {
      "cell_type": "markdown",
      "source": [
        "# 모델, 옵티마이저 설정"
      ],
      "metadata": {
        "id": "sgERaYxyuF3B"
      }
    },
    {
      "cell_type": "code",
      "source": [
        "from torch.optim import SGD\n",
        "from torch.optim import Adam\n",
        "\n",
        "lr_SGD = 0.001\n",
        "lr_Adam = 0.001\n",
        "\n",
        "model_LeakyReLU_SGD = model_LeakyReLU_SGD.to(device)\n",
        "model_LeakyReLU_Adam = model_LeakyReLU_Adam.to(device)\n",
        "model_Sigmoid_Adam = model_Sigmoid_Adam.to(device)\n",
        "\n",
        "optimizer_LeakyReLU_SGD = SGD(model_LeakyReLU_SGD.parameters(), lr=lr_SGD)\n",
        "optimizer_LeakyReLU_Adam = Adam(model_LeakyReLU_Adam.parameters(), lr=lr_Adam)\n",
        "optimizer_Sigmoid_Adam = Adam(model_Sigmoid_Adam.parameters(), lr=lr_Adam)"
      ],
      "metadata": {
        "id": "T3duKC-GXTeE"
      },
      "execution_count": 6,
      "outputs": []
    },
    {
      "cell_type": "markdown",
      "source": [
        "# 정확도 및 플롯 함수 정의"
      ],
      "metadata": {
        "id": "p1CXUenZuIj1"
      }
    },
    {
      "cell_type": "code",
      "source": [
        "def accuracy(model, dataloader):\n",
        "  cnt = 0\n",
        "  acc = 0\n",
        "\n",
        "  for data in dataloader:\n",
        "    inputs, labels = data\n",
        "    inputs, labels = inputs.to(device), labels.to(device)\n",
        "\n",
        "    preds = model(inputs)\n",
        "    preds = torch.argmax(preds, dim=-1)\n",
        "\n",
        "    cnt += labels.shape[0]\n",
        "    acc += (labels == preds).sum().item()\n",
        "\n",
        "  return acc / cnt\n",
        "\n",
        "def plot_acc(train_accs, test_accs, label1='train', label2='test'):\n",
        "  x = np.arange(len(train_accs))\n",
        "\n",
        "  plt.plot(x, train_accs, label=label1)\n",
        "  plt.plot(x, test_accs, label=label2)\n",
        "  plt.legend()\n",
        "  plt.show()\n",
        "\n",
        "n_epochs = 50\n",
        "train_SGD_LeakyReLu = [];\n",
        "train_Adam_LeakyReLu = [];\n",
        "train_Adam_Sigmoid = [];"
      ],
      "metadata": {
        "id": "IILExWeIMHMR"
      },
      "execution_count": 7,
      "outputs": []
    },
    {
      "cell_type": "markdown",
      "source": [
        "# 모델 학습 1\n",
        "\n",
        "\n",
        "1.   최적화 SGD 설정\n",
        "2.   활성화 함수 LeakyReLU\n",
        "\n"
      ],
      "metadata": {
        "id": "FSp9qmuEuKXI"
      }
    },
    {
      "cell_type": "code",
      "source": [
        "for epoch in range(n_epochs):\n",
        "  total_loss = 0.\n",
        "  for data in trainloader:\n",
        "    model_LeakyReLU_SGD.zero_grad()\n",
        "    inputs, labels = data\n",
        "    inputs, labels = inputs.to(device), labels.to(device)\n",
        "\n",
        "    preds = model_LeakyReLU_SGD(inputs)\n",
        "    loss = nn.CrossEntropyLoss()(preds, labels)\n",
        "    loss.backward()\n",
        "    optimizer_LeakyReLU_SGD.step()\n",
        "\n",
        "    total_loss += loss.item()\n",
        "\n",
        "  train_SGD_LeakyReLu.append(accuracy(model_LeakyReLU_SGD, trainloader))\n",
        "  print(f\"Epoch {epoch:3d} | Loss: {total_loss}\")"
      ],
      "metadata": {
        "colab": {
          "base_uri": "https://localhost:8080/"
        },
        "id": "Y0kCJsWE8oGs",
        "outputId": "c98ec9dd-30a1-453a-8f40-3009799cadf6"
      },
      "execution_count": 8,
      "outputs": [
        {
          "output_type": "stream",
          "name": "stdout",
          "text": [
            "Epoch   0 | Loss: 450.4148635864258\n",
            "Epoch   1 | Loss: 449.32351779937744\n",
            "Epoch   2 | Loss: 448.39859414100647\n",
            "Epoch   3 | Loss: 447.5081272125244\n",
            "Epoch   4 | Loss: 446.6347875595093\n",
            "Epoch   5 | Loss: 445.7816333770752\n",
            "Epoch   6 | Loss: 444.92031264305115\n",
            "Epoch   7 | Loss: 444.0443296432495\n",
            "Epoch   8 | Loss: 443.14439702033997\n",
            "Epoch   9 | Loss: 442.09430289268494\n",
            "Epoch  10 | Loss: 441.02738094329834\n",
            "Epoch  11 | Loss: 440.03112149238586\n",
            "Epoch  12 | Loss: 438.9798710346222\n",
            "Epoch  13 | Loss: 437.9283378124237\n",
            "Epoch  14 | Loss: 436.8959255218506\n",
            "Epoch  15 | Loss: 435.9270191192627\n",
            "Epoch  16 | Loss: 434.92262744903564\n",
            "Epoch  17 | Loss: 433.9040813446045\n",
            "Epoch  18 | Loss: 432.9662871360779\n",
            "Epoch  19 | Loss: 431.9937815666199\n",
            "Epoch  20 | Loss: 431.172025680542\n",
            "Epoch  21 | Loss: 430.08217883110046\n",
            "Epoch  22 | Loss: 428.7480492591858\n",
            "Epoch  23 | Loss: 427.5153183937073\n",
            "Epoch  24 | Loss: 426.31944394111633\n",
            "Epoch  25 | Loss: 425.20845556259155\n",
            "Epoch  26 | Loss: 424.1173198223114\n",
            "Epoch  27 | Loss: 423.07720255851746\n",
            "Epoch  28 | Loss: 422.1344337463379\n",
            "Epoch  29 | Loss: 421.2228891849518\n",
            "Epoch  30 | Loss: 420.23544049263\n",
            "Epoch  31 | Loss: 419.4605128765106\n",
            "Epoch  32 | Loss: 418.6867640018463\n",
            "Epoch  33 | Loss: 417.92737865448\n",
            "Epoch  34 | Loss: 417.09118485450745\n",
            "Epoch  35 | Loss: 416.4639699459076\n",
            "Epoch  36 | Loss: 415.7225880622864\n",
            "Epoch  37 | Loss: 415.04003620147705\n",
            "Epoch  38 | Loss: 412.544766664505\n",
            "Epoch  39 | Loss: 410.20468950271606\n",
            "Epoch  40 | Loss: 408.47311866283417\n",
            "Epoch  41 | Loss: 407.0074819326401\n",
            "Epoch  42 | Loss: 405.5090138912201\n",
            "Epoch  43 | Loss: 404.3062207698822\n",
            "Epoch  44 | Loss: 403.1109917163849\n",
            "Epoch  45 | Loss: 402.07426488399506\n",
            "Epoch  46 | Loss: 401.1015547513962\n",
            "Epoch  47 | Loss: 400.0809623003006\n",
            "Epoch  48 | Loss: 399.1856209039688\n",
            "Epoch  49 | Loss: 397.86558401584625\n"
          ]
        }
      ]
    },
    {
      "cell_type": "markdown",
      "source": [
        "# 모델 학습 2\n",
        "\n",
        "\n",
        "1.   최적화 Adam 설정\n",
        "2.   활성화 함수 LeakyReLU\n"
      ],
      "metadata": {
        "id": "btVUGP9K8txq"
      }
    },
    {
      "cell_type": "code",
      "source": [
        "for epoch in range(n_epochs):\n",
        "  total_loss = 0.\n",
        "  for data in trainloader:\n",
        "    model_LeakyReLU_Adam.zero_grad()\n",
        "    inputs, labels = data\n",
        "    inputs, labels = inputs.to(device), labels.to(device)\n",
        "\n",
        "    preds = model_LeakyReLU_Adam(inputs)\n",
        "    loss = nn.CrossEntropyLoss()(preds, labels)\n",
        "    loss.backward()\n",
        "    optimizer_LeakyReLU_Adam.step()\n",
        "\n",
        "    total_loss += loss.item()\n",
        "\n",
        "  train_Adam_LeakyReLu.append(accuracy(model_LeakyReLU_Adam, trainloader))\n",
        "  print(f\"Epoch {epoch:3d} | Loss: {total_loss}\")"
      ],
      "metadata": {
        "colab": {
          "base_uri": "https://localhost:8080/"
        },
        "id": "J8dDtwo-8tDl",
        "outputId": "17c51e16-f41c-496b-bf05-6033acba924d"
      },
      "execution_count": 9,
      "outputs": [
        {
          "output_type": "stream",
          "name": "stdout",
          "text": [
            "Epoch   0 | Loss: 430.59201669692993\n",
            "Epoch   1 | Loss: 393.55972933769226\n",
            "Epoch   2 | Loss: 368.8481605052948\n",
            "Epoch   3 | Loss: 353.306920170784\n",
            "Epoch   4 | Loss: 340.21712613105774\n",
            "Epoch   5 | Loss: 331.3296465873718\n",
            "Epoch   6 | Loss: 323.49344170093536\n",
            "Epoch   7 | Loss: 314.4192018508911\n",
            "Epoch   8 | Loss: 307.79444003105164\n",
            "Epoch   9 | Loss: 302.01398622989655\n",
            "Epoch  10 | Loss: 295.1928857564926\n",
            "Epoch  11 | Loss: 288.70967745780945\n",
            "Epoch  12 | Loss: 285.8308457136154\n",
            "Epoch  13 | Loss: 281.6938395500183\n",
            "Epoch  14 | Loss: 276.34783613681793\n",
            "Epoch  15 | Loss: 274.3481240272522\n",
            "Epoch  16 | Loss: 272.27456843852997\n",
            "Epoch  17 | Loss: 265.8513354063034\n",
            "Epoch  18 | Loss: 263.8471260070801\n",
            "Epoch  19 | Loss: 260.4369161128998\n",
            "Epoch  20 | Loss: 258.1817299127579\n",
            "Epoch  21 | Loss: 254.58441066741943\n",
            "Epoch  22 | Loss: 250.2617279291153\n",
            "Epoch  23 | Loss: 248.5666561126709\n",
            "Epoch  24 | Loss: 243.19611132144928\n",
            "Epoch  25 | Loss: 244.38280642032623\n",
            "Epoch  26 | Loss: 238.4340980052948\n",
            "Epoch  27 | Loss: 234.74856865406036\n",
            "Epoch  28 | Loss: 231.425675034523\n",
            "Epoch  29 | Loss: 230.31749832630157\n",
            "Epoch  30 | Loss: 225.06758427619934\n",
            "Epoch  31 | Loss: 222.63480025529861\n",
            "Epoch  32 | Loss: 223.0526937842369\n",
            "Epoch  33 | Loss: 216.24779200553894\n",
            "Epoch  34 | Loss: 213.77138018608093\n",
            "Epoch  35 | Loss: 209.50891536474228\n",
            "Epoch  36 | Loss: 208.48364382982254\n",
            "Epoch  37 | Loss: 204.8656668663025\n",
            "Epoch  38 | Loss: 199.9109205007553\n",
            "Epoch  39 | Loss: 198.50812298059464\n",
            "Epoch  40 | Loss: 193.93166947364807\n",
            "Epoch  41 | Loss: 193.3002102971077\n",
            "Epoch  42 | Loss: 186.44355380535126\n",
            "Epoch  43 | Loss: 185.10011237859726\n",
            "Epoch  44 | Loss: 181.22409915924072\n",
            "Epoch  45 | Loss: 182.96151834726334\n",
            "Epoch  46 | Loss: 178.56979328393936\n",
            "Epoch  47 | Loss: 172.84302634000778\n",
            "Epoch  48 | Loss: 168.6768315434456\n",
            "Epoch  49 | Loss: 168.64481925964355\n"
          ]
        }
      ]
    },
    {
      "cell_type": "markdown",
      "source": [
        "# 모델 학습 3\n",
        "\n",
        "\n",
        "1.   최적화 Adam 설정\n",
        "2.   활성화 함수 Sigmoid"
      ],
      "metadata": {
        "id": "RiYv2GQl89Kz"
      }
    },
    {
      "cell_type": "code",
      "source": [
        "for epoch in range(n_epochs):\n",
        "  total_loss = 0.\n",
        "  for data in trainloader:\n",
        "    model_Sigmoid_Adam.zero_grad()\n",
        "    inputs, labels = data\n",
        "    inputs, labels = inputs.to(device), labels.to(device)\n",
        "\n",
        "    preds = model_Sigmoid_Adam(inputs)\n",
        "    loss = nn.CrossEntropyLoss()(preds, labels)\n",
        "    loss.backward()\n",
        "    optimizer_Sigmoid_Adam.step()\n",
        "\n",
        "    total_loss += loss.item()\n",
        "\n",
        "  train_Adam_Sigmoid.append(accuracy(model_Sigmoid_Adam, trainloader))\n",
        "  print(f\"Epoch {epoch:3d} | Loss: {total_loss}\")"
      ],
      "metadata": {
        "colab": {
          "base_uri": "https://localhost:8080/"
        },
        "id": "4wfaWBjV89qX",
        "outputId": "6dfd8c62-80ad-43ab-df1e-f9b91b010342"
      },
      "execution_count": 10,
      "outputs": [
        {
          "output_type": "stream",
          "name": "stdout",
          "text": [
            "Epoch   0 | Loss: 410.7406014204025\n",
            "Epoch   1 | Loss: 393.8928476572037\n",
            "Epoch   2 | Loss: 386.99909567832947\n",
            "Epoch   3 | Loss: 384.4489735364914\n",
            "Epoch   4 | Loss: 380.87555611133575\n",
            "Epoch   5 | Loss: 378.934556722641\n",
            "Epoch   6 | Loss: 377.65600752830505\n",
            "Epoch   7 | Loss: 375.71994030475616\n",
            "Epoch   8 | Loss: 373.9109808206558\n",
            "Epoch   9 | Loss: 373.61907935142517\n",
            "Epoch  10 | Loss: 371.3869169950485\n",
            "Epoch  11 | Loss: 370.1526333093643\n",
            "Epoch  12 | Loss: 369.7192565202713\n",
            "Epoch  13 | Loss: 368.63726782798767\n",
            "Epoch  14 | Loss: 368.49223732948303\n",
            "Epoch  15 | Loss: 367.8740086555481\n",
            "Epoch  16 | Loss: 367.0439759492874\n",
            "Epoch  17 | Loss: 365.7156950235367\n",
            "Epoch  18 | Loss: 365.0009962320328\n",
            "Epoch  19 | Loss: 364.07473480701447\n",
            "Epoch  20 | Loss: 363.0055857896805\n",
            "Epoch  21 | Loss: 362.5614753961563\n",
            "Epoch  22 | Loss: 362.79990804195404\n",
            "Epoch  23 | Loss: 361.60567033290863\n",
            "Epoch  24 | Loss: 361.62555968761444\n",
            "Epoch  25 | Loss: 360.6154987812042\n",
            "Epoch  26 | Loss: 360.12871992588043\n",
            "Epoch  27 | Loss: 360.53776943683624\n",
            "Epoch  28 | Loss: 359.118071436882\n",
            "Epoch  29 | Loss: 358.9380443096161\n",
            "Epoch  30 | Loss: 358.78397738933563\n",
            "Epoch  31 | Loss: 358.57907474040985\n",
            "Epoch  32 | Loss: 358.219064950943\n",
            "Epoch  33 | Loss: 357.34986102581024\n",
            "Epoch  34 | Loss: 356.9955633878708\n",
            "Epoch  35 | Loss: 357.4703241586685\n",
            "Epoch  36 | Loss: 356.61842608451843\n",
            "Epoch  37 | Loss: 356.80134415626526\n",
            "Epoch  38 | Loss: 355.2132794857025\n",
            "Epoch  39 | Loss: 355.0889924764633\n",
            "Epoch  40 | Loss: 354.88608622550964\n",
            "Epoch  41 | Loss: 355.0375728607178\n",
            "Epoch  42 | Loss: 354.11414897441864\n",
            "Epoch  43 | Loss: 353.77976536750793\n",
            "Epoch  44 | Loss: 353.0509150028229\n",
            "Epoch  45 | Loss: 352.2687031030655\n",
            "Epoch  46 | Loss: 352.2122149467468\n",
            "Epoch  47 | Loss: 352.86650252342224\n",
            "Epoch  48 | Loss: 350.89828526973724\n",
            "Epoch  49 | Loss: 352.3424607515335\n"
          ]
        }
      ]
    },
    {
      "cell_type": "markdown",
      "source": [
        "# 정확도 Plot 보여주기"
      ],
      "metadata": {
        "id": "K6l9rwmRuOBe"
      }
    },
    {
      "cell_type": "code",
      "source": [
        "plot_acc(train_SGD_LeakyReLu, train_Adam_LeakyReLu, label1='SGD', label2='Adam')\n",
        "plot_acc(train_Adam_LeakyReLu, train_Adam_Sigmoid, label1='LeakyReLu', label2='Sigmoid')"
      ],
      "metadata": {
        "colab": {
          "base_uri": "https://localhost:8080/",
          "height": 843
        },
        "id": "EOE7q-_GKl5a",
        "outputId": "d38d2d80-69c0-401f-e283-99f45a2f5499"
      },
      "execution_count": 12,
      "outputs": [
        {
          "output_type": "display_data",
          "data": {
            "text/plain": [
              "<Figure size 640x480 with 1 Axes>"
            ],
            "image/png": "[encoded data removed]"
          },
          "metadata": {}
        },
        {
          "output_type": "display_data",
          "data": {
            "text/plain": [
              "<Figure size 640x480 with 1 Axes>"
            ],
            "image/png": "[encoded data removed]"
          },
          "metadata": {}
        }
      ]
    },
    {
      "cell_type": "code",
      "source": [],
      "metadata": {
        "id": "7utJSs7WK4VV"
      },
      "execution_count": null,
      "outputs": []
    }
  ]
}